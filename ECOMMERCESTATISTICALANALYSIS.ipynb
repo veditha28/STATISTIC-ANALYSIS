{
 "cells": [
  {
   "cell_type": "code",
   "execution_count": 276,
   "id": "e5c483ef-e040-4028-8918-c22e39ec93c2",
   "metadata": {},
   "outputs": [],
   "source": [
    "import pandas as pd"
   ]
  },
  {
   "cell_type": "code",
   "execution_count": 278,
   "id": "305f7a88-c4c0-4025-b834-507b7af5f47f",
   "metadata": {},
   "outputs": [],
   "source": [
    "df=pd.read_csv(\"C:/Users/Vedit/Downloads/ecommerce_transactions.csv\")"
   ]
  },
  {
   "cell_type": "code",
   "execution_count": 280,
   "id": "1d753da8-4d6b-484c-bb66-0c0c52441665",
   "metadata": {},
   "outputs": [
    {
     "name": "stdout",
     "output_type": "stream",
     "text": [
      "<class 'pandas.core.frame.DataFrame'>\n",
      "RangeIndex: 3000 entries, 0 to 2999\n",
      "Data columns (total 9 columns):\n",
      " #   Column       Non-Null Count  Dtype  \n",
      "---  ------       --------------  -----  \n",
      " 0   InvoiceNo    3000 non-null   object \n",
      " 1   StockCode    3000 non-null   object \n",
      " 2   Description  3000 non-null   object \n",
      " 3   Quantity     3000 non-null   int64  \n",
      " 4   InvoiceDate  3000 non-null   object \n",
      " 5   UnitPrice    3000 non-null   float64\n",
      " 6   CustomerID   488 non-null    object \n",
      " 7   Country      3000 non-null   object \n",
      " 8   TotalPrice   3000 non-null   float64\n",
      "dtypes: float64(2), int64(1), object(6)\n",
      "memory usage: 211.1+ KB\n"
     ]
    }
   ],
   "source": [
    "df.info()"
   ]
  },
  {
   "cell_type": "code",
   "execution_count": 282,
   "id": "ac5a4045-116b-4380-9f85-44994ca54496",
   "metadata": {},
   "outputs": [
    {
     "data": {
      "text/html": [
       "<div>\n",
       "<style scoped>\n",
       "    .dataframe tbody tr th:only-of-type {\n",
       "        vertical-align: middle;\n",
       "    }\n",
       "\n",
       "    .dataframe tbody tr th {\n",
       "        vertical-align: top;\n",
       "    }\n",
       "\n",
       "    .dataframe thead th {\n",
       "        text-align: right;\n",
       "    }\n",
       "</style>\n",
       "<table border=\"1\" class=\"dataframe\">\n",
       "  <thead>\n",
       "    <tr style=\"text-align: right;\">\n",
       "      <th></th>\n",
       "      <th>Quantity</th>\n",
       "      <th>UnitPrice</th>\n",
       "      <th>TotalPrice</th>\n",
       "    </tr>\n",
       "  </thead>\n",
       "  <tbody>\n",
       "    <tr>\n",
       "      <th>count</th>\n",
       "      <td>3000.000000</td>\n",
       "      <td>3000.000000</td>\n",
       "      <td>3000.000000</td>\n",
       "    </tr>\n",
       "    <tr>\n",
       "      <th>mean</th>\n",
       "      <td>4.948333</td>\n",
       "      <td>52.040657</td>\n",
       "      <td>259.615800</td>\n",
       "    </tr>\n",
       "    <tr>\n",
       "      <th>std</th>\n",
       "      <td>2.588931</td>\n",
       "      <td>27.311891</td>\n",
       "      <td>205.995717</td>\n",
       "    </tr>\n",
       "    <tr>\n",
       "      <th>min</th>\n",
       "      <td>1.000000</td>\n",
       "      <td>5.000000</td>\n",
       "      <td>5.130000</td>\n",
       "    </tr>\n",
       "    <tr>\n",
       "      <th>25%</th>\n",
       "      <td>3.000000</td>\n",
       "      <td>28.607500</td>\n",
       "      <td>88.020000</td>\n",
       "    </tr>\n",
       "    <tr>\n",
       "      <th>50%</th>\n",
       "      <td>5.000000</td>\n",
       "      <td>51.435000</td>\n",
       "      <td>204.720000</td>\n",
       "    </tr>\n",
       "    <tr>\n",
       "      <th>75%</th>\n",
       "      <td>7.000000</td>\n",
       "      <td>75.450000</td>\n",
       "      <td>378.412500</td>\n",
       "    </tr>\n",
       "    <tr>\n",
       "      <th>max</th>\n",
       "      <td>9.000000</td>\n",
       "      <td>99.960000</td>\n",
       "      <td>897.570000</td>\n",
       "    </tr>\n",
       "  </tbody>\n",
       "</table>\n",
       "</div>"
      ],
      "text/plain": [
       "          Quantity    UnitPrice   TotalPrice\n",
       "count  3000.000000  3000.000000  3000.000000\n",
       "mean      4.948333    52.040657   259.615800\n",
       "std       2.588931    27.311891   205.995717\n",
       "min       1.000000     5.000000     5.130000\n",
       "25%       3.000000    28.607500    88.020000\n",
       "50%       5.000000    51.435000   204.720000\n",
       "75%       7.000000    75.450000   378.412500\n",
       "max       9.000000    99.960000   897.570000"
      ]
     },
     "execution_count": 282,
     "metadata": {},
     "output_type": "execute_result"
    }
   ],
   "source": [
    "df.describe()"
   ]
  },
  {
   "cell_type": "code",
   "execution_count": 284,
   "id": "a3df183c-6a2f-4afc-a0d4-4bc3de8bae8c",
   "metadata": {},
   "outputs": [
    {
     "data": {
      "text/html": [
       "<div>\n",
       "<style scoped>\n",
       "    .dataframe tbody tr th:only-of-type {\n",
       "        vertical-align: middle;\n",
       "    }\n",
       "\n",
       "    .dataframe tbody tr th {\n",
       "        vertical-align: top;\n",
       "    }\n",
       "\n",
       "    .dataframe thead th {\n",
       "        text-align: right;\n",
       "    }\n",
       "</style>\n",
       "<table border=\"1\" class=\"dataframe\">\n",
       "  <thead>\n",
       "    <tr style=\"text-align: right;\">\n",
       "      <th></th>\n",
       "      <th>InvoiceNo</th>\n",
       "      <th>StockCode</th>\n",
       "      <th>Description</th>\n",
       "      <th>Quantity</th>\n",
       "      <th>InvoiceDate</th>\n",
       "      <th>UnitPrice</th>\n",
       "      <th>CustomerID</th>\n",
       "      <th>Country</th>\n",
       "      <th>TotalPrice</th>\n",
       "    </tr>\n",
       "  </thead>\n",
       "  <tbody>\n",
       "    <tr>\n",
       "      <th>0</th>\n",
       "      <td>INV100000</td>\n",
       "      <td>S4204</td>\n",
       "      <td>Mug</td>\n",
       "      <td>7</td>\n",
       "      <td>2023-04-11 03:53:00</td>\n",
       "      <td>40.85</td>\n",
       "      <td>NaN</td>\n",
       "      <td>Netherlands</td>\n",
       "      <td>285.95</td>\n",
       "    </tr>\n",
       "    <tr>\n",
       "      <th>1</th>\n",
       "      <td>INV100001</td>\n",
       "      <td>S5668</td>\n",
       "      <td>T-Shirt</td>\n",
       "      <td>4</td>\n",
       "      <td>2023-10-06 04:19:00</td>\n",
       "      <td>96.59</td>\n",
       "      <td>NaN</td>\n",
       "      <td>Spain</td>\n",
       "      <td>386.36</td>\n",
       "    </tr>\n",
       "    <tr>\n",
       "      <th>2</th>\n",
       "      <td>INV100002</td>\n",
       "      <td>S9254</td>\n",
       "      <td>Notebook</td>\n",
       "      <td>8</td>\n",
       "      <td>2023-04-12 14:48:00</td>\n",
       "      <td>13.48</td>\n",
       "      <td>NaN</td>\n",
       "      <td>Spain</td>\n",
       "      <td>107.84</td>\n",
       "    </tr>\n",
       "    <tr>\n",
       "      <th>3</th>\n",
       "      <td>INV100003</td>\n",
       "      <td>S8395</td>\n",
       "      <td>Mug</td>\n",
       "      <td>5</td>\n",
       "      <td>2023-04-27 04:52:00</td>\n",
       "      <td>70.27</td>\n",
       "      <td>NaN</td>\n",
       "      <td>Spain</td>\n",
       "      <td>351.35</td>\n",
       "    </tr>\n",
       "    <tr>\n",
       "      <th>4</th>\n",
       "      <td>INV100004</td>\n",
       "      <td>S9427</td>\n",
       "      <td>Mug</td>\n",
       "      <td>7</td>\n",
       "      <td>2023-06-24 17:37:00</td>\n",
       "      <td>51.91</td>\n",
       "      <td>CUST1005</td>\n",
       "      <td>United Kingdom</td>\n",
       "      <td>363.37</td>\n",
       "    </tr>\n",
       "  </tbody>\n",
       "</table>\n",
       "</div>"
      ],
      "text/plain": [
       "   InvoiceNo StockCode Description  Quantity          InvoiceDate  UnitPrice  \\\n",
       "0  INV100000     S4204         Mug         7  2023-04-11 03:53:00      40.85   \n",
       "1  INV100001     S5668     T-Shirt         4  2023-10-06 04:19:00      96.59   \n",
       "2  INV100002     S9254    Notebook         8  2023-04-12 14:48:00      13.48   \n",
       "3  INV100003     S8395         Mug         5  2023-04-27 04:52:00      70.27   \n",
       "4  INV100004     S9427         Mug         7  2023-06-24 17:37:00      51.91   \n",
       "\n",
       "  CustomerID         Country  TotalPrice  \n",
       "0        NaN     Netherlands      285.95  \n",
       "1        NaN           Spain      386.36  \n",
       "2        NaN           Spain      107.84  \n",
       "3        NaN           Spain      351.35  \n",
       "4   CUST1005  United Kingdom      363.37  "
      ]
     },
     "execution_count": 284,
     "metadata": {},
     "output_type": "execute_result"
    }
   ],
   "source": [
    "df.head()"
   ]
  },
  {
   "cell_type": "code",
   "execution_count": 286,
   "id": "98a8ef2e-6002-4a66-b00d-4b9590701208",
   "metadata": {},
   "outputs": [
    {
     "data": {
      "text/plain": [
       "InvoiceNo         0\n",
       "StockCode         0\n",
       "Description       0\n",
       "Quantity          0\n",
       "InvoiceDate       0\n",
       "UnitPrice         0\n",
       "CustomerID     2512\n",
       "Country           0\n",
       "TotalPrice        0\n",
       "dtype: int64"
      ]
     },
     "execution_count": 286,
     "metadata": {},
     "output_type": "execute_result"
    }
   ],
   "source": [
    "df.isnull().sum()"
   ]
  },
  {
   "cell_type": "code",
   "execution_count": 288,
   "id": "af9f963f-735d-460b-a843-3a905c2b9a72",
   "metadata": {},
   "outputs": [
    {
     "data": {
      "text/plain": [
       "0"
      ]
     },
     "execution_count": 288,
     "metadata": {},
     "output_type": "execute_result"
    }
   ],
   "source": [
    "df.duplicated().sum()"
   ]
  },
  {
   "cell_type": "code",
   "execution_count": 290,
   "id": "368c36a9-9947-4f6d-ab57-c74db457f3ad",
   "metadata": {},
   "outputs": [
    {
     "data": {
      "text/plain": [
       "0"
      ]
     },
     "execution_count": 290,
     "metadata": {},
     "output_type": "execute_result"
    }
   ],
   "source": [
    "df['InvoiceNo'].duplicated().sum()"
   ]
  },
  {
   "cell_type": "code",
   "execution_count": 292,
   "id": "023f73de-56e3-4110-a33f-f5469d669a11",
   "metadata": {},
   "outputs": [
    {
     "name": "stdout",
     "output_type": "stream",
     "text": [
      "Index(['InvoiceNo', 'StockCode', 'Description', 'Quantity', 'InvoiceDate',\n",
      "       'UnitPrice', 'CustomerID', 'Country', 'TotalPrice'],\n",
      "      dtype='object')\n"
     ]
    }
   ],
   "source": [
    "print(df.columns)"
   ]
  },
  {
   "cell_type": "code",
   "execution_count": 294,
   "id": "3b733002-08aa-4279-92a3-56e9052aeb01",
   "metadata": {},
   "outputs": [],
   "source": [
    "df=df[df['Quantity']>0]"
   ]
  },
  {
   "cell_type": "code",
   "execution_count": 296,
   "id": "80fcf3b4-2722-48cc-9d05-d333694a9404",
   "metadata": {},
   "outputs": [],
   "source": [
    "df['isfree']=df['UnitPrice'] == 0"
   ]
  },
  {
   "cell_type": "code",
   "execution_count": 298,
   "id": "87444cb3-04d7-45ce-88d2-faa2dcfdb457",
   "metadata": {},
   "outputs": [],
   "source": [
    "df['CustomerID']=df['CustomerID'].fillna('guest')"
   ]
  },
  {
   "cell_type": "code",
   "execution_count": 300,
   "id": "b98b40dc-68d8-4e17-8b46-6b913ff1d193",
   "metadata": {},
   "outputs": [
    {
     "data": {
      "text/html": [
       "<div>\n",
       "<style scoped>\n",
       "    .dataframe tbody tr th:only-of-type {\n",
       "        vertical-align: middle;\n",
       "    }\n",
       "\n",
       "    .dataframe tbody tr th {\n",
       "        vertical-align: top;\n",
       "    }\n",
       "\n",
       "    .dataframe thead th {\n",
       "        text-align: right;\n",
       "    }\n",
       "</style>\n",
       "<table border=\"1\" class=\"dataframe\">\n",
       "  <thead>\n",
       "    <tr style=\"text-align: right;\">\n",
       "      <th></th>\n",
       "      <th>InvoiceNo</th>\n",
       "      <th>StockCode</th>\n",
       "      <th>Description</th>\n",
       "      <th>Quantity</th>\n",
       "      <th>InvoiceDate</th>\n",
       "      <th>UnitPrice</th>\n",
       "      <th>CustomerID</th>\n",
       "      <th>Country</th>\n",
       "      <th>TotalPrice</th>\n",
       "      <th>isfree</th>\n",
       "    </tr>\n",
       "  </thead>\n",
       "  <tbody>\n",
       "    <tr>\n",
       "      <th>0</th>\n",
       "      <td>INV100000</td>\n",
       "      <td>S4204</td>\n",
       "      <td>Mug</td>\n",
       "      <td>7</td>\n",
       "      <td>2023-04-11 03:53:00</td>\n",
       "      <td>40.85</td>\n",
       "      <td>guest</td>\n",
       "      <td>Netherlands</td>\n",
       "      <td>285.95</td>\n",
       "      <td>False</td>\n",
       "    </tr>\n",
       "    <tr>\n",
       "      <th>1</th>\n",
       "      <td>INV100001</td>\n",
       "      <td>S5668</td>\n",
       "      <td>T-Shirt</td>\n",
       "      <td>4</td>\n",
       "      <td>2023-10-06 04:19:00</td>\n",
       "      <td>96.59</td>\n",
       "      <td>guest</td>\n",
       "      <td>Spain</td>\n",
       "      <td>386.36</td>\n",
       "      <td>False</td>\n",
       "    </tr>\n",
       "    <tr>\n",
       "      <th>2</th>\n",
       "      <td>INV100002</td>\n",
       "      <td>S9254</td>\n",
       "      <td>Notebook</td>\n",
       "      <td>8</td>\n",
       "      <td>2023-04-12 14:48:00</td>\n",
       "      <td>13.48</td>\n",
       "      <td>guest</td>\n",
       "      <td>Spain</td>\n",
       "      <td>107.84</td>\n",
       "      <td>False</td>\n",
       "    </tr>\n",
       "    <tr>\n",
       "      <th>3</th>\n",
       "      <td>INV100003</td>\n",
       "      <td>S8395</td>\n",
       "      <td>Mug</td>\n",
       "      <td>5</td>\n",
       "      <td>2023-04-27 04:52:00</td>\n",
       "      <td>70.27</td>\n",
       "      <td>guest</td>\n",
       "      <td>Spain</td>\n",
       "      <td>351.35</td>\n",
       "      <td>False</td>\n",
       "    </tr>\n",
       "    <tr>\n",
       "      <th>4</th>\n",
       "      <td>INV100004</td>\n",
       "      <td>S9427</td>\n",
       "      <td>Mug</td>\n",
       "      <td>7</td>\n",
       "      <td>2023-06-24 17:37:00</td>\n",
       "      <td>51.91</td>\n",
       "      <td>CUST1005</td>\n",
       "      <td>United Kingdom</td>\n",
       "      <td>363.37</td>\n",
       "      <td>False</td>\n",
       "    </tr>\n",
       "  </tbody>\n",
       "</table>\n",
       "</div>"
      ],
      "text/plain": [
       "   InvoiceNo StockCode Description  Quantity          InvoiceDate  UnitPrice  \\\n",
       "0  INV100000     S4204         Mug         7  2023-04-11 03:53:00      40.85   \n",
       "1  INV100001     S5668     T-Shirt         4  2023-10-06 04:19:00      96.59   \n",
       "2  INV100002     S9254    Notebook         8  2023-04-12 14:48:00      13.48   \n",
       "3  INV100003     S8395         Mug         5  2023-04-27 04:52:00      70.27   \n",
       "4  INV100004     S9427         Mug         7  2023-06-24 17:37:00      51.91   \n",
       "\n",
       "  CustomerID         Country  TotalPrice  isfree  \n",
       "0      guest     Netherlands      285.95   False  \n",
       "1      guest           Spain      386.36   False  \n",
       "2      guest           Spain      107.84   False  \n",
       "3      guest           Spain      351.35   False  \n",
       "4   CUST1005  United Kingdom      363.37   False  "
      ]
     },
     "execution_count": 300,
     "metadata": {},
     "output_type": "execute_result"
    }
   ],
   "source": [
    "df.head()"
   ]
  },
  {
   "cell_type": "code",
   "execution_count": 302,
   "id": "11d6dcc3-2443-4fca-a1b1-3204fa562e63",
   "metadata": {},
   "outputs": [],
   "source": [
    "df['TotalPrice']=df['Quantity']*df['UnitPrice']"
   ]
  },
  {
   "cell_type": "code",
   "execution_count": 304,
   "id": "5fb47390-c8a4-4307-b8c3-9cdbb0c1f60b",
   "metadata": {},
   "outputs": [
    {
     "name": "stdout",
     "output_type": "stream",
     "text": [
      "Free product transactions:\n",
      " 0\n"
     ]
    }
   ],
   "source": [
    "print(\"Free product transactions:\\n\", df['isfree'].sum())"
   ]
  },
  {
   "cell_type": "code",
   "execution_count": 306,
   "id": "7815b1ef-a286-462d-8c7a-b325375adcd9",
   "metadata": {},
   "outputs": [],
   "source": [
    "df['InvoiceDate']=pd.to_datetime(df[\"InvoiceDate\"])"
   ]
  },
  {
   "cell_type": "code",
   "execution_count": 308,
   "id": "bd3275ff-9635-4848-b13d-6d3caf8cdaeb",
   "metadata": {},
   "outputs": [],
   "source": [
    "df['year']=df['InvoiceDate'].dt.year"
   ]
  },
  {
   "cell_type": "code",
   "execution_count": 310,
   "id": "c08816cf-dc11-4276-a47f-9a60f7ec99d0",
   "metadata": {},
   "outputs": [],
   "source": [
    "df['month']=df['InvoiceDate'].dt.month"
   ]
  },
  {
   "cell_type": "code",
   "execution_count": 312,
   "id": "77293b86-4039-4787-bb75-b2964aee0912",
   "metadata": {},
   "outputs": [],
   "source": [
    "df['Day']=df['InvoiceDate'].dt.day"
   ]
  },
  {
   "cell_type": "code",
   "execution_count": 314,
   "id": "58e884d0-5932-46f4-8d5b-f7537b117a81",
   "metadata": {},
   "outputs": [],
   "source": [
    "df['day_of_week']=df['InvoiceDate'].dt.day_name()"
   ]
  },
  {
   "cell_type": "code",
   "execution_count": 316,
   "id": "b16e1137-200f-498f-ba8f-e627e3a1bcbc",
   "metadata": {},
   "outputs": [],
   "source": [
    "df['hour']=df['InvoiceDate'].dt.hour"
   ]
  },
  {
   "cell_type": "code",
   "execution_count": 318,
   "id": "925676d5-dde5-4068-a835-7cbac46a865d",
   "metadata": {},
   "outputs": [],
   "source": [
    "df['InvoiceTotal'] = df.groupby('InvoiceNo')['TotalPrice'].transform('sum')\n"
   ]
  },
  {
   "cell_type": "code",
   "execution_count": 352,
   "id": "7ffaf252-6732-4307-9f74-593a9411da12",
   "metadata": {},
   "outputs": [],
   "source": [
    "df['CustomerType'] = df['CustomerID'].apply(lambda x: 'Guest' if x == 'guest' else 'Returning')"
   ]
  },
  {
   "cell_type": "code",
   "execution_count": 356,
   "id": "e09f31a7-1442-4b1f-967e-a6ea2a41ac77",
   "metadata": {},
   "outputs": [
    {
     "data": {
      "text/html": [
       "<div>\n",
       "<style scoped>\n",
       "    .dataframe tbody tr th:only-of-type {\n",
       "        vertical-align: middle;\n",
       "    }\n",
       "\n",
       "    .dataframe tbody tr th {\n",
       "        vertical-align: top;\n",
       "    }\n",
       "\n",
       "    .dataframe thead th {\n",
       "        text-align: right;\n",
       "    }\n",
       "</style>\n",
       "<table border=\"1\" class=\"dataframe\">\n",
       "  <thead>\n",
       "    <tr style=\"text-align: right;\">\n",
       "      <th></th>\n",
       "      <th>InvoiceNo</th>\n",
       "      <th>StockCode</th>\n",
       "      <th>Description</th>\n",
       "      <th>Quantity</th>\n",
       "      <th>InvoiceDate</th>\n",
       "      <th>UnitPrice</th>\n",
       "      <th>CustomerID</th>\n",
       "      <th>Country</th>\n",
       "      <th>TotalPrice</th>\n",
       "      <th>isfree</th>\n",
       "      <th>year</th>\n",
       "      <th>month</th>\n",
       "      <th>Day</th>\n",
       "      <th>day_of_week</th>\n",
       "      <th>hour</th>\n",
       "      <th>InvoiceTotal</th>\n",
       "      <th>CustomerType</th>\n",
       "    </tr>\n",
       "  </thead>\n",
       "  <tbody>\n",
       "    <tr>\n",
       "      <th>0</th>\n",
       "      <td>INV100000</td>\n",
       "      <td>S4204</td>\n",
       "      <td>Mug</td>\n",
       "      <td>7</td>\n",
       "      <td>2023-04-11 03:53:00</td>\n",
       "      <td>40.85</td>\n",
       "      <td>guest</td>\n",
       "      <td>Netherlands</td>\n",
       "      <td>285.95</td>\n",
       "      <td>False</td>\n",
       "      <td>2023</td>\n",
       "      <td>4</td>\n",
       "      <td>11</td>\n",
       "      <td>Tuesday</td>\n",
       "      <td>3</td>\n",
       "      <td>285.95</td>\n",
       "      <td>Guest</td>\n",
       "    </tr>\n",
       "    <tr>\n",
       "      <th>1</th>\n",
       "      <td>INV100001</td>\n",
       "      <td>S5668</td>\n",
       "      <td>T-Shirt</td>\n",
       "      <td>4</td>\n",
       "      <td>2023-10-06 04:19:00</td>\n",
       "      <td>96.59</td>\n",
       "      <td>guest</td>\n",
       "      <td>Spain</td>\n",
       "      <td>386.36</td>\n",
       "      <td>False</td>\n",
       "      <td>2023</td>\n",
       "      <td>10</td>\n",
       "      <td>6</td>\n",
       "      <td>Friday</td>\n",
       "      <td>4</td>\n",
       "      <td>386.36</td>\n",
       "      <td>Guest</td>\n",
       "    </tr>\n",
       "    <tr>\n",
       "      <th>2</th>\n",
       "      <td>INV100002</td>\n",
       "      <td>S9254</td>\n",
       "      <td>Notebook</td>\n",
       "      <td>8</td>\n",
       "      <td>2023-04-12 14:48:00</td>\n",
       "      <td>13.48</td>\n",
       "      <td>guest</td>\n",
       "      <td>Spain</td>\n",
       "      <td>107.84</td>\n",
       "      <td>False</td>\n",
       "      <td>2023</td>\n",
       "      <td>4</td>\n",
       "      <td>12</td>\n",
       "      <td>Wednesday</td>\n",
       "      <td>14</td>\n",
       "      <td>107.84</td>\n",
       "      <td>Guest</td>\n",
       "    </tr>\n",
       "    <tr>\n",
       "      <th>3</th>\n",
       "      <td>INV100003</td>\n",
       "      <td>S8395</td>\n",
       "      <td>Mug</td>\n",
       "      <td>5</td>\n",
       "      <td>2023-04-27 04:52:00</td>\n",
       "      <td>70.27</td>\n",
       "      <td>guest</td>\n",
       "      <td>Spain</td>\n",
       "      <td>351.35</td>\n",
       "      <td>False</td>\n",
       "      <td>2023</td>\n",
       "      <td>4</td>\n",
       "      <td>27</td>\n",
       "      <td>Thursday</td>\n",
       "      <td>4</td>\n",
       "      <td>351.35</td>\n",
       "      <td>Guest</td>\n",
       "    </tr>\n",
       "    <tr>\n",
       "      <th>4</th>\n",
       "      <td>INV100004</td>\n",
       "      <td>S9427</td>\n",
       "      <td>Mug</td>\n",
       "      <td>7</td>\n",
       "      <td>2023-06-24 17:37:00</td>\n",
       "      <td>51.91</td>\n",
       "      <td>CUST1005</td>\n",
       "      <td>United Kingdom</td>\n",
       "      <td>363.37</td>\n",
       "      <td>False</td>\n",
       "      <td>2023</td>\n",
       "      <td>6</td>\n",
       "      <td>24</td>\n",
       "      <td>Saturday</td>\n",
       "      <td>17</td>\n",
       "      <td>363.37</td>\n",
       "      <td>Returning</td>\n",
       "    </tr>\n",
       "  </tbody>\n",
       "</table>\n",
       "</div>"
      ],
      "text/plain": [
       "   InvoiceNo StockCode Description  Quantity         InvoiceDate  UnitPrice  \\\n",
       "0  INV100000     S4204         Mug         7 2023-04-11 03:53:00      40.85   \n",
       "1  INV100001     S5668     T-Shirt         4 2023-10-06 04:19:00      96.59   \n",
       "2  INV100002     S9254    Notebook         8 2023-04-12 14:48:00      13.48   \n",
       "3  INV100003     S8395         Mug         5 2023-04-27 04:52:00      70.27   \n",
       "4  INV100004     S9427         Mug         7 2023-06-24 17:37:00      51.91   \n",
       "\n",
       "  CustomerID         Country  TotalPrice  isfree  year  month  Day  \\\n",
       "0      guest     Netherlands      285.95   False  2023      4   11   \n",
       "1      guest           Spain      386.36   False  2023     10    6   \n",
       "2      guest           Spain      107.84   False  2023      4   12   \n",
       "3      guest           Spain      351.35   False  2023      4   27   \n",
       "4   CUST1005  United Kingdom      363.37   False  2023      6   24   \n",
       "\n",
       "  day_of_week  hour  InvoiceTotal CustomerType  \n",
       "0     Tuesday     3        285.95        Guest  \n",
       "1      Friday     4        386.36        Guest  \n",
       "2   Wednesday    14        107.84        Guest  \n",
       "3    Thursday     4        351.35        Guest  \n",
       "4    Saturday    17        363.37    Returning  "
      ]
     },
     "execution_count": 356,
     "metadata": {},
     "output_type": "execute_result"
    }
   ],
   "source": [
    "df.head()"
   ]
  },
  {
   "cell_type": "code",
   "execution_count": 358,
   "id": "40f506ea-008e-447d-97a7-94dccc759b6c",
   "metadata": {},
   "outputs": [],
   "source": [
    "top_products_by_quantity=df.groupby(\"Description\")['Quantity'].sum().sort_values(ascending=False)"
   ]
  },
  {
   "cell_type": "code",
   "execution_count": 360,
   "id": "faa3e63f-ef67-4a7c-a7f9-92e2c2ac8497",
   "metadata": {},
   "outputs": [
    {
     "name": "stdout",
     "output_type": "stream",
     "text": [
      "Highest products bought:\n",
      " Description\n",
      "Backpack      2274\n",
      "Phone Case    2254\n",
      "Pen           2187\n",
      "Charger       2154\n",
      "T-Shirt       2034\n",
      "Mug           2014\n",
      "Notebook      1928\n",
      "Name: Quantity, dtype: int64 \n",
      "\n"
     ]
    }
   ],
   "source": [
    "print(\"Highest products bought:\\n\",top_products_by_quantity,\"\\n\")"
   ]
  },
  {
   "cell_type": "code",
   "execution_count": 362,
   "id": "693c2195-21dd-43dc-82ba-9cc351b20a74",
   "metadata": {},
   "outputs": [],
   "source": [
    "total_revenue=df['TotalPrice'].sum()"
   ]
  },
  {
   "cell_type": "code",
   "execution_count": 364,
   "id": "f3409081-bac5-429a-be02-0f0fcff78c35",
   "metadata": {},
   "outputs": [
    {
     "name": "stdout",
     "output_type": "stream",
     "text": [
      "Toal Revenue:  778847.4\n"
     ]
    }
   ],
   "source": [
    "print(\"Toal Revenue: \",total_revenue)"
   ]
  },
  {
   "cell_type": "code",
   "execution_count": 366,
   "id": "7a9f4b34-4490-4927-93e7-57a32fb556b8",
   "metadata": {},
   "outputs": [],
   "source": [
    "highes_revenue_giving_product=df.groupby(\"Description\")['TotalPrice'].sum().sort_values(ascending=False)"
   ]
  },
  {
   "cell_type": "code",
   "execution_count": 368,
   "id": "c3a3052c-1ee4-4458-884a-1d3ecb36c0d4",
   "metadata": {},
   "outputs": [],
   "source": [
    "percentage_of_revenue=(highes_revenue_giving_product/total_revenue)*100"
   ]
  },
  {
   "cell_type": "code",
   "execution_count": 370,
   "id": "273b3e23-77f3-45e8-a3a7-15fb07821458",
   "metadata": {},
   "outputs": [],
   "source": [
    "revenue_summary=pd.DataFrame({'revenue':highes_revenue_giving_product,'percentage':percentage_of_revenue.round(2)})"
   ]
  },
  {
   "cell_type": "code",
   "execution_count": 372,
   "id": "342e1063-82dc-44f6-92b3-6a3be1448b24",
   "metadata": {},
   "outputs": [
    {
     "name": "stdout",
     "output_type": "stream",
     "text": [
      "Highest Revenue Generating products:\n",
      "\n"
     ]
    },
    {
     "data": {
      "text/html": [
       "<div>\n",
       "<style scoped>\n",
       "    .dataframe tbody tr th:only-of-type {\n",
       "        vertical-align: middle;\n",
       "    }\n",
       "\n",
       "    .dataframe tbody tr th {\n",
       "        vertical-align: top;\n",
       "    }\n",
       "\n",
       "    .dataframe thead th {\n",
       "        text-align: right;\n",
       "    }\n",
       "</style>\n",
       "<table border=\"1\" class=\"dataframe\">\n",
       "  <thead>\n",
       "    <tr style=\"text-align: right;\">\n",
       "      <th></th>\n",
       "      <th>revenue</th>\n",
       "      <th>percentage</th>\n",
       "    </tr>\n",
       "    <tr>\n",
       "      <th>Description</th>\n",
       "      <th></th>\n",
       "      <th></th>\n",
       "    </tr>\n",
       "  </thead>\n",
       "  <tbody>\n",
       "    <tr>\n",
       "      <th>Phone Case</th>\n",
       "      <td>120184.33</td>\n",
       "      <td>15.43</td>\n",
       "    </tr>\n",
       "    <tr>\n",
       "      <th>Backpack</th>\n",
       "      <td>119594.85</td>\n",
       "      <td>15.36</td>\n",
       "    </tr>\n",
       "    <tr>\n",
       "      <th>Charger</th>\n",
       "      <td>114447.62</td>\n",
       "      <td>14.69</td>\n",
       "    </tr>\n",
       "    <tr>\n",
       "      <th>Pen</th>\n",
       "      <td>113497.54</td>\n",
       "      <td>14.57</td>\n",
       "    </tr>\n",
       "    <tr>\n",
       "      <th>T-Shirt</th>\n",
       "      <td>108127.72</td>\n",
       "      <td>13.88</td>\n",
       "    </tr>\n",
       "  </tbody>\n",
       "</table>\n",
       "</div>"
      ],
      "text/plain": [
       "               revenue  percentage\n",
       "Description                       \n",
       "Phone Case   120184.33       15.43\n",
       "Backpack     119594.85       15.36\n",
       "Charger      114447.62       14.69\n",
       "Pen          113497.54       14.57\n",
       "T-Shirt      108127.72       13.88"
      ]
     },
     "execution_count": 372,
     "metadata": {},
     "output_type": "execute_result"
    }
   ],
   "source": [
    "print(\"Highest Revenue Generating products:\\n\")\n",
    "revenue_summary.head()"
   ]
  },
  {
   "cell_type": "code",
   "execution_count": 374,
   "id": "8c87e010-834a-4462-bf48-b04b627fe77f",
   "metadata": {},
   "outputs": [],
   "source": [
    "avg_invoice_value = df[['InvoiceNo', 'InvoiceTotal']].drop_duplicates()['InvoiceTotal'].mean()"
   ]
  },
  {
   "cell_type": "code",
   "execution_count": 376,
   "id": "a226f5e7-8593-40df-ad38-1b598ffb1dd3",
   "metadata": {},
   "outputs": [
    {
     "name": "stdout",
     "output_type": "stream",
     "text": [
      "Average sales per invoice is  259.61580000000004\n"
     ]
    }
   ],
   "source": [
    "print(\"Average sales per invoice is \",avg_invoice_value)"
   ]
  },
  {
   "cell_type": "code",
   "execution_count": 378,
   "id": "59c3927a-b867-41f9-8f27-d11fe83bccec",
   "metadata": {},
   "outputs": [],
   "source": [
    "sales_per_country = df.groupby(\"Country\")['TotalPrice'].sum().sort_values(ascending=False)"
   ]
  },
  {
   "cell_type": "code",
   "execution_count": 380,
   "id": "c152e9e9-58c7-4a22-b928-8b9bb2b9a5e8",
   "metadata": {},
   "outputs": [
    {
     "name": "stdout",
     "output_type": "stream",
     "text": [
      "Sales across different countries:  Country\n",
      "Italy             13.97\n",
      "Australia         13.72\n",
      "Netherlands       12.68\n",
      "USA               12.31\n",
      "Spain             12.09\n",
      "France            11.97\n",
      "United Kingdom    11.69\n",
      "Germany           11.57\n",
      "Name: TotalPrice, dtype: float64\n"
     ]
    }
   ],
   "source": [
    "print(\"Sales across different countries: \",((sales_per_country/total_revenue)*100).round(2))"
   ]
  },
  {
   "cell_type": "code",
   "execution_count": 382,
   "id": "4642408a-513b-4f6d-9130-c2005b7a527c",
   "metadata": {},
   "outputs": [
    {
     "name": "stdout",
     "output_type": "stream",
     "text": [
      "Sales by Weekday:\n",
      " day_of_week\n",
      "Monday       117131.27\n",
      "Tuesday      103964.63\n",
      "Wednesday    110974.60\n",
      "Thursday     108739.54\n",
      "Friday       111033.13\n",
      "Saturday     118123.58\n",
      "Sunday       108880.65\n",
      "Name: TotalPrice, dtype: float64 \n",
      "\n",
      "Sales by Hour:\n",
      " hour\n",
      "0     30049.86\n",
      "1     29071.37\n",
      "2     29025.66\n",
      "3     33568.66\n",
      "4     38147.32\n",
      "5     24165.06\n",
      "6     34982.06\n",
      "7     36337.30\n",
      "8     37537.25\n",
      "9     36662.60\n",
      "10    32043.70\n",
      "11    34945.19\n",
      "12    30686.56\n",
      "13    36325.95\n",
      "14    31736.90\n",
      "15    31857.05\n",
      "16    29584.40\n",
      "17    30737.70\n",
      "18    30338.30\n",
      "19    37500.64\n",
      "20    28940.31\n",
      "21    33228.02\n",
      "22    31970.21\n",
      "23    29405.33\n",
      "Name: TotalPrice, dtype: float64 \n",
      "\n",
      "Customer Type Counts:\n",
      " CustomerType\n",
      "Guest        2512\n",
      "Returning     488\n",
      "Name: count, dtype: int64 \n",
      "\n",
      "Average Spend by Customer Type:\n",
      " CustomerType\n",
      "Guest        261.642500\n",
      "Returning    249.183279\n",
      "Name: InvoiceTotal, dtype: float64 \n",
      "\n",
      "Number of Free Items: 0\n",
      "Total Value of Free Items: 0.0\n"
     ]
    }
   ],
   "source": [
    "sales_by_weekday = df.groupby('day_of_week')['TotalPrice'].sum().reindex([\n",
    "    'Monday', 'Tuesday', 'Wednesday', 'Thursday', 'Friday', 'Saturday', 'Sunday'\n",
    "])\n",
    "print(\"Sales by Weekday:\\n\", sales_by_weekday, \"\\n\")\n",
    "\n",
    "# 6. Sales by Hour\n",
    "sales_by_hour = df.groupby('hour')['TotalPrice'].sum()\n",
    "print(\"Sales by Hour:\\n\", sales_by_hour, \"\\n\")\n",
    "\n",
    "# 7. Customer Type Counts\n",
    "customer_type_counts = df['CustomerType'].value_counts()\n",
    "print(\"Customer Type Counts:\\n\", customer_type_counts, \"\\n\")\n",
    "\n",
    "# 8. Average Spend by Customer Type\n",
    "avg_spend_by_customer_type = df.groupby('CustomerType')['InvoiceTotal'].mean()\n",
    "print(\"Average Spend by Customer Type:\\n\", avg_spend_by_customer_type, \"\\n\")\n",
    "\n",
    "# 9. Free Item Count\n",
    "free_items_count = df[df['isfree'] == True].shape[0]\n",
    "print(\"Number of Free Items:\", free_items_count)\n",
    "\n",
    "# 10. Free Item Value\n",
    "free_items_value = df[df['isfree'] == True]['TotalPrice'].sum()\n",
    "print(\"Total Value of Free Items:\", free_items_value)"
   ]
  },
  {
   "cell_type": "code",
   "execution_count": 388,
   "id": "a2572397-763d-419c-9a67-94e8aa4b8c98",
   "metadata": {},
   "outputs": [
    {
     "name": "stdout",
     "output_type": "stream",
     "text": [
      "T-Test: Guest vs Returning Customers\n",
      "t-statistic: 1.2279963743998425\n",
      "p-value: 0.21986566298157148\n",
      "\n",
      "ANOVA: Revenue by Weekday\n",
      "F-statistic: 1.4010905608293884\n",
      "p-value: 0.21021374574531287\n",
      "\n",
      "Correlation: Quantity vs UnitPrice\n",
      "Correlation coefficient: 0.029727422113758964\n",
      "p-value: 0.10354202751782444\n"
     ]
    }
   ],
   "source": [
    "from scipy import stats\n",
    "\n",
    "# Ensure numeric types\n",
    "df['InvoiceTotal'] = pd.to_numeric(df['InvoiceTotal'], errors='coerce')\n",
    "df['Quantity'] = pd.to_numeric(df['Quantity'], errors='coerce')\n",
    "df['UnitPrice'] = pd.to_numeric(df['UnitPrice'], errors='coerce')\n",
    "\n",
    "# 1. T-Test: Guest vs Returning Customers (on Invoice Total)\n",
    "guest_invoices = df[df['CustomerType'] == 'Guest'][['InvoiceNo', 'InvoiceTotal']].drop_duplicates()['InvoiceTotal']\n",
    "returning_invoices = df[df['CustomerType'] == 'Returning'][['InvoiceNo', 'InvoiceTotal']].drop_duplicates()['InvoiceTotal']\n",
    "t_stat, p_val_ttest = stats.ttest_ind(guest_invoices, returning_invoices, equal_var=False)\n",
    "\n",
    "# 2. ANOVA: Revenue by Weekday\n",
    "anova_groups = [group['TotalPrice'].values for _, group in df.groupby('day_of_week')]\n",
    "f_stat, p_val_anova = stats.f_oneway(*anova_groups)\n",
    "\n",
    "# 3. Correlation: Quantity vs UnitPrice\n",
    "corr_coef, p_val_corr = stats.pearsonr(df['Quantity'], df['UnitPrice'])\n",
    "\n",
    "# Display results\n",
    "print(\"T-Test: Guest vs Returning Customers\")\n",
    "print(\"t-statistic:\", t_stat)\n",
    "print(\"p-value:\", p_val_ttest)\n",
    "print(\"\\nANOVA: Revenue by Weekday\")\n",
    "print(\"F-statistic:\", f_stat)\n",
    "print(\"p-value:\", p_val_anova)\n",
    "print(\"\\nCorrelation: Quantity vs UnitPrice\")\n",
    "print(\"Correlation coefficient:\", corr_coef)\n",
    "print(\"p-value:\", p_val_corr)\n"
   ]
  },
  {
   "cell_type": "code",
   "execution_count": 394,
   "id": "5a256f09-2a99-4991-9208-e5a5f12f4f6b",
   "metadata": {},
   "outputs": [],
   "source": [
    "import matplotlib.pyplot as plt\n",
    "import seaborn as sns\n"
   ]
  },
  {
   "cell_type": "code",
   "execution_count": 396,
   "id": "6ec7d3b7-2dc7-453b-a061-1eaa59afd858",
   "metadata": {},
   "outputs": [
    {
     "name": "stderr",
     "output_type": "stream",
     "text": [
      "C:\\Users\\Vedit\\AppData\\Local\\Temp\\ipykernel_404\\2715788703.py:6: FutureWarning: \n",
      "\n",
      "Passing `palette` without assigning `hue` is deprecated and will be removed in v0.14.0. Assign the `x` variable to `hue` and set `legend=False` for the same effect.\n",
      "\n",
      "  sns.boxplot(x='CustomerType', y='InvoiceTotal', data=invoice_comparison, palette='pastel')\n"
     ]
    },
    {
     "data": {
      "image/png": "[encoded data removed]",
      "text/plain": [
       "<Figure size 800x500 with 1 Axes>"
      ]
     },
     "metadata": {},
     "output_type": "display_data"
    }
   ],
   "source": [
    "# Prepare data\n",
    "invoice_comparison = df[['InvoiceNo', 'InvoiceTotal', 'CustomerType']].drop_duplicates()\n",
    "\n",
    "# Plot\n",
    "plt.figure(figsize=(8, 5))\n",
    "sns.boxplot(x='CustomerType', y='InvoiceTotal', data=invoice_comparison, palette='pastel')\n",
    "plt.title('Invoice Total: Guest vs Returning Customers')\n",
    "plt.ylabel('Invoice Total')\n",
    "plt.xlabel('Customer Type')\n",
    "plt.grid(True)\n",
    "plt.tight_layout()\n",
    "plt.show()\n"
   ]
  },
  {
   "cell_type": "code",
   "execution_count": 398,
   "id": "f690499e-c0d3-4823-8b65-6c868a85e533",
   "metadata": {},
   "outputs": [
    {
     "name": "stderr",
     "output_type": "stream",
     "text": [
      "C:\\Users\\Vedit\\AppData\\Local\\Temp\\ipykernel_404\\2845674491.py:6: FutureWarning: \n",
      "\n",
      "Passing `palette` without assigning `hue` is deprecated and will be removed in v0.14.0. Assign the `x` variable to `hue` and set `legend=False` for the same effect.\n",
      "\n",
      "  sns.barplot(x='day_of_week', y='TotalPrice', data=weekday_sales, palette='coolwarm')\n"
     ]
    },
    {
     "data": {
      "image/png": "[encoded data removed]",
      "text/plain": [
       "<Figure size 800x500 with 1 Axes>"
      ]
     },
     "metadata": {},
     "output_type": "display_data"
    }
   ],
   "source": [
    "# Aggregate average revenue per weekday\n",
    "weekday_sales = df.groupby('day_of_week')['TotalPrice'].mean().reset_index()\n",
    "\n",
    "# Plot\n",
    "plt.figure(figsize=(8, 5))\n",
    "sns.barplot(x='day_of_week', y='TotalPrice', data=weekday_sales, palette='coolwarm')\n",
    "plt.title('Average Revenue by Weekday')\n",
    "plt.ylabel('Average TotalPrice')\n",
    "plt.xlabel('Day of Week')\n",
    "plt.grid(True)\n",
    "plt.tight_layout()\n",
    "plt.show()\n"
   ]
  },
  {
   "cell_type": "code",
   "execution_count": 400,
   "id": "ebcaec25-45c4-4a09-ba1d-5d6d69d59e61",
   "metadata": {},
   "outputs": [
    {
     "data": {
      "image/png": "[encoded data removed]",
      "text/plain": [
       "<Figure size 800x500 with 1 Axes>"
      ]
     },
     "metadata": {},
     "output_type": "display_data"
    }
   ],
   "source": [
    "plt.figure(figsize=(8, 5))\n",
    "sns.scatterplot(x='UnitPrice', y='Quantity', data=df, alpha=0.5)\n",
    "sns.regplot(x='UnitPrice', y='Quantity', data=df, scatter=False, color='red')\n",
    "plt.title('Correlation: Unit Price vs Quantity')\n",
    "plt.xlabel('Unit Price')\n",
    "plt.ylabel('Quantity Purchased')\n",
    "plt.grid(True)\n",
    "plt.tight_layout()\n",
    "plt.show()\n"
   ]
  },
  {
   "cell_type": "code",
   "execution_count": null,
   "id": "57c3f2a2-d795-4d07-b009-4deadce4072b",
   "metadata": {},
   "outputs": [],
   "source": []
  }
 ],
 "metadata": {
  "kernelspec": {
   "display_name": "Python 3 (ipykernel)",
   "language": "python",
   "name": "python3"
  },
  "language_info": {
   "codemirror_mode": {
    "name": "ipython",
    "version": 3
   },
   "file_extension": ".py",
   "mimetype": "text/x-python",
   "name": "python",
   "nbconvert_exporter": "python",
   "pygments_lexer": "ipython3",
   "version": "3.12.7"
  }
 },
 "nbformat": 4,
 "nbformat_minor": 5
}
